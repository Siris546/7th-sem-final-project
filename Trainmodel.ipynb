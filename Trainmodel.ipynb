{
 "cells": [
  {
   "cell_type": "code",
   "execution_count": 19,
   "id": "26fa307c-2113-4662-9ce9-f5bb6247b22b",
   "metadata": {},
   "outputs": [],
   "source": [
    "from keras.utils import to_categorical\n",
    "from keras_preprocessing.image import load_img\n",
    "from keras.models import Sequential\n",
    "from keras.layers import Dense, Conv2D, Dropout, Flatten, MaxPooling2D\n",
    "import os\n",
    "import tensorflow as tf\n",
    "from tensorflow import keras\n",
    "import pandas as pd\n",
    "import numpy as np"
   ]
  },
  {
   "cell_type": "code",
   "execution_count": 2,
   "id": "eef32441-23d9-489c-9564-1986fbfa9d3a",
   "metadata": {},
   "outputs": [],
   "source": [
    "TRAIN_DIR = 'images/train'\n",
    "TEST_DIR = 'images/test'"
   ]
  },
  {
   "cell_type": "code",
   "execution_count": 3,
   "id": "1df8b66c-c8dd-4140-a540-41bcc00259d0",
   "metadata": {},
   "outputs": [],
   "source": [
    "def createdataframe(dir):\n",
    "    image_paths = []\n",
    "    labels = []\n",
    "    for label in os.listdir(dir):\n",
    "        for imagename in os.listdir(os.path.join(dir,label)):\n",
    "            image_paths.append(os.path.join(dir,label,imagename))\n",
    "            labels.append(label)\n",
    "        print(label, \"completed\")\n",
    "    return image_paths,labels"
   ]
  },
  {
   "cell_type": "code",
   "execution_count": 4,
   "id": "1cd66374-ef03-42ec-8536-56e8c79512ba",
   "metadata": {},
   "outputs": [
    {
     "name": "stdout",
     "output_type": "stream",
     "text": [
      "angry completed\n",
      "disgust completed\n",
      "fear completed\n",
      "happy completed\n",
      "neutral completed\n",
      "sad completed\n",
      "surprise completed\n"
     ]
    }
   ],
   "source": [
    "train = pd.DataFrame()\n",
    "train['image'], train['label'] = createdataframe(TRAIN_DIR)"
   ]
  },
  {
   "cell_type": "code",
   "execution_count": 5,
   "id": "d0a6273a-a817-4806-b072-8cf80c898a4f",
   "metadata": {},
   "outputs": [
    {
     "name": "stdout",
     "output_type": "stream",
     "text": [
      "                                image     label\n",
      "0            images/train\\angry\\0.jpg     angry\n",
      "1            images/train\\angry\\1.jpg     angry\n",
      "2           images/train\\angry\\10.jpg     angry\n",
      "3        images/train\\angry\\10002.jpg     angry\n",
      "4        images/train\\angry\\10016.jpg     angry\n",
      "...                               ...       ...\n",
      "28816  images/train\\surprise\\9969.jpg  surprise\n",
      "28817  images/train\\surprise\\9985.jpg  surprise\n",
      "28818  images/train\\surprise\\9990.jpg  surprise\n",
      "28819  images/train\\surprise\\9992.jpg  surprise\n",
      "28820  images/train\\surprise\\9996.jpg  surprise\n",
      "\n",
      "[28821 rows x 2 columns]\n"
     ]
    }
   ],
   "source": [
    "print(train)"
   ]
  },
  {
   "cell_type": "code",
   "execution_count": 6,
   "id": "cef429a0-e4c8-4c91-94db-82399a7456f3",
   "metadata": {},
   "outputs": [
    {
     "name": "stdout",
     "output_type": "stream",
     "text": [
      "angry completed\n",
      "disgust completed\n",
      "fear completed\n",
      "happy completed\n",
      "neutral completed\n",
      "sad completed\n",
      "surprise completed\n"
     ]
    }
   ],
   "source": [
    "test = pd.DataFrame()\n",
    "test['image'], test['label'] = createdataframe(TEST_DIR)"
   ]
  },
  {
   "cell_type": "code",
   "execution_count": 7,
   "id": "94f4557c-1a89-46cd-b6be-a790b1103a5c",
   "metadata": {},
   "outputs": [
    {
     "name": "stdout",
     "output_type": "stream",
     "text": [
      "                              image     label\n",
      "0       images/test\\angry\\10052.jpg     angry\n",
      "1       images/test\\angry\\10065.jpg     angry\n",
      "2       images/test\\angry\\10079.jpg     angry\n",
      "3       images/test\\angry\\10095.jpg     angry\n",
      "4       images/test\\angry\\10121.jpg     angry\n",
      "...                             ...       ...\n",
      "7061  images/test\\surprise\\9806.jpg  surprise\n",
      "7062  images/test\\surprise\\9830.jpg  surprise\n",
      "7063  images/test\\surprise\\9853.jpg  surprise\n",
      "7064  images/test\\surprise\\9878.jpg  surprise\n",
      "7065   images/test\\surprise\\993.jpg  surprise\n",
      "\n",
      "[7066 rows x 2 columns]\n"
     ]
    }
   ],
   "source": [
    "print(test)"
   ]
  },
  {
   "cell_type": "code",
   "execution_count": 8,
   "id": "6210e70d-b5f1-4bd9-85b1-663366a0caa6",
   "metadata": {},
   "outputs": [],
   "source": [
    "from tqdm.notebook import tqdm"
   ]
  },
  {
   "cell_type": "code",
   "execution_count": 9,
   "id": "94ff644e-b40e-4714-9ed7-46035a4fa563",
   "metadata": {},
   "outputs": [],
   "source": [
    "import PIL.Image"
   ]
  },
  {
   "cell_type": "code",
   "execution_count": 10,
   "id": "b6448c13-d480-46b8-8f0d-33edd2379b86",
   "metadata": {},
   "outputs": [],
   "source": [
    "def extract_features(images):\n",
    "    features = []\n",
    "    for image in tqdm(images):\n",
    "        img = load_img(image, grayscale = True )\n",
    "        img = np.array(img)\n",
    "        features.append(img)\n",
    "    features = np.array(features)\n",
    "    features = features.reshape(len(features),48,48,1)\n",
    "    return features"
   ]
  },
  {
   "cell_type": "code",
   "execution_count": 11,
   "id": "f3962934-31fd-43b3-964f-9c8c5bc57533",
   "metadata": {},
   "outputs": [
    {
     "data": {
      "application/vnd.jupyter.widget-view+json": {
       "model_id": "cb088cf8ae3843649fc96725dfb8aa6f",
       "version_major": 2,
       "version_minor": 0
      },
      "text/plain": [
       "  0%|          | 0/28821 [00:00<?, ?it/s]"
      ]
     },
     "metadata": {},
     "output_type": "display_data"
    },
    {
     "name": "stderr",
     "output_type": "stream",
     "text": [
      "C:\\Users\\acer\\AppData\\Local\\Programs\\Python\\Python311\\Lib\\site-packages\\keras_preprocessing\\image\\utils.py:107: UserWarning: grayscale is deprecated. Please use color_mode = \"grayscale\"\n",
      "  warnings.warn('grayscale is deprecated. Please use '\n"
     ]
    }
   ],
   "source": [
    "train_features = extract_features(train['image']) "
   ]
  },
  {
   "cell_type": "code",
   "execution_count": 12,
   "id": "52332c2b-9e7b-4c6d-954d-50bc3d2b1b59",
   "metadata": {},
   "outputs": [
    {
     "data": {
      "application/vnd.jupyter.widget-view+json": {
       "model_id": "8a1f2401abe746b59fbe5ea094b90ea8",
       "version_major": 2,
       "version_minor": 0
      },
      "text/plain": [
       "  0%|          | 0/7066 [00:00<?, ?it/s]"
      ]
     },
     "metadata": {},
     "output_type": "display_data"
    }
   ],
   "source": [
    "test_features = extract_features(test['image'])"
   ]
  },
  {
   "cell_type": "code",
   "execution_count": 13,
   "id": "7d8496e4-bd07-4b6d-bcd2-ea24e157831c",
   "metadata": {},
   "outputs": [],
   "source": [
    "x_train = train_features/255.0\n",
    "x_test = test_features/255.0"
   ]
  },
  {
   "cell_type": "code",
   "execution_count": 14,
   "id": "2aabb5cf-14a1-4465-b4d2-74ef4c538051",
   "metadata": {},
   "outputs": [],
   "source": [
    "from sklearn.preprocessing import LabelEncoder"
   ]
  },
  {
   "cell_type": "code",
   "execution_count": 15,
   "id": "7aa12358-f8b0-448c-9118-f2d2c5c56cf2",
   "metadata": {},
   "outputs": [
    {
     "data": {
      "text/html": [
       "<style>#sk-container-id-1 {color: black;}#sk-container-id-1 pre{padding: 0;}#sk-container-id-1 div.sk-toggleable {background-color: white;}#sk-container-id-1 label.sk-toggleable__label {cursor: pointer;display: block;width: 100%;margin-bottom: 0;padding: 0.3em;box-sizing: border-box;text-align: center;}#sk-container-id-1 label.sk-toggleable__label-arrow:before {content: \"▸\";float: left;margin-right: 0.25em;color: #696969;}#sk-container-id-1 label.sk-toggleable__label-arrow:hover:before {color: black;}#sk-container-id-1 div.sk-estimator:hover label.sk-toggleable__label-arrow:before {color: black;}#sk-container-id-1 div.sk-toggleable__content {max-height: 0;max-width: 0;overflow: hidden;text-align: left;background-color: #f0f8ff;}#sk-container-id-1 div.sk-toggleable__content pre {margin: 0.2em;color: black;border-radius: 0.25em;background-color: #f0f8ff;}#sk-container-id-1 input.sk-toggleable__control:checked~div.sk-toggleable__content {max-height: 200px;max-width: 100%;overflow: auto;}#sk-container-id-1 input.sk-toggleable__control:checked~label.sk-toggleable__label-arrow:before {content: \"▾\";}#sk-container-id-1 div.sk-estimator input.sk-toggleable__control:checked~label.sk-toggleable__label {background-color: #d4ebff;}#sk-container-id-1 div.sk-label input.sk-toggleable__control:checked~label.sk-toggleable__label {background-color: #d4ebff;}#sk-container-id-1 input.sk-hidden--visually {border: 0;clip: rect(1px 1px 1px 1px);clip: rect(1px, 1px, 1px, 1px);height: 1px;margin: -1px;overflow: hidden;padding: 0;position: absolute;width: 1px;}#sk-container-id-1 div.sk-estimator {font-family: monospace;background-color: #f0f8ff;border: 1px dotted black;border-radius: 0.25em;box-sizing: border-box;margin-bottom: 0.5em;}#sk-container-id-1 div.sk-estimator:hover {background-color: #d4ebff;}#sk-container-id-1 div.sk-parallel-item::after {content: \"\";width: 100%;border-bottom: 1px solid gray;flex-grow: 1;}#sk-container-id-1 div.sk-label:hover label.sk-toggleable__label {background-color: #d4ebff;}#sk-container-id-1 div.sk-serial::before {content: \"\";position: absolute;border-left: 1px solid gray;box-sizing: border-box;top: 0;bottom: 0;left: 50%;z-index: 0;}#sk-container-id-1 div.sk-serial {display: flex;flex-direction: column;align-items: center;background-color: white;padding-right: 0.2em;padding-left: 0.2em;position: relative;}#sk-container-id-1 div.sk-item {position: relative;z-index: 1;}#sk-container-id-1 div.sk-parallel {display: flex;align-items: stretch;justify-content: center;background-color: white;position: relative;}#sk-container-id-1 div.sk-item::before, #sk-container-id-1 div.sk-parallel-item::before {content: \"\";position: absolute;border-left: 1px solid gray;box-sizing: border-box;top: 0;bottom: 0;left: 50%;z-index: -1;}#sk-container-id-1 div.sk-parallel-item {display: flex;flex-direction: column;z-index: 1;position: relative;background-color: white;}#sk-container-id-1 div.sk-parallel-item:first-child::after {align-self: flex-end;width: 50%;}#sk-container-id-1 div.sk-parallel-item:last-child::after {align-self: flex-start;width: 50%;}#sk-container-id-1 div.sk-parallel-item:only-child::after {width: 0;}#sk-container-id-1 div.sk-dashed-wrapped {border: 1px dashed gray;margin: 0 0.4em 0.5em 0.4em;box-sizing: border-box;padding-bottom: 0.4em;background-color: white;}#sk-container-id-1 div.sk-label label {font-family: monospace;font-weight: bold;display: inline-block;line-height: 1.2em;}#sk-container-id-1 div.sk-label-container {text-align: center;}#sk-container-id-1 div.sk-container {/* jupyter's `normalize.less` sets `[hidden] { display: none; }` but bootstrap.min.css set `[hidden] { display: none !important; }` so we also need the `!important` here to be able to override the default hidden behavior on the sphinx rendered scikit-learn.org. See: https://github.com/scikit-learn/scikit-learn/issues/21755 */display: inline-block !important;position: relative;}#sk-container-id-1 div.sk-text-repr-fallback {display: none;}</style><div id=\"sk-container-id-1\" class=\"sk-top-container\"><div class=\"sk-text-repr-fallback\"><pre>LabelEncoder()</pre><b>In a Jupyter environment, please rerun this cell to show the HTML representation or trust the notebook. <br />On GitHub, the HTML representation is unable to render, please try loading this page with nbviewer.org.</b></div><div class=\"sk-container\" hidden><div class=\"sk-item\"><div class=\"sk-estimator sk-toggleable\"><input class=\"sk-toggleable__control sk-hidden--visually\" id=\"sk-estimator-id-1\" type=\"checkbox\" checked><label for=\"sk-estimator-id-1\" class=\"sk-toggleable__label sk-toggleable__label-arrow\">LabelEncoder</label><div class=\"sk-toggleable__content\"><pre>LabelEncoder()</pre></div></div></div></div></div>"
      ],
      "text/plain": [
       "LabelEncoder()"
      ]
     },
     "execution_count": 15,
     "metadata": {},
     "output_type": "execute_result"
    }
   ],
   "source": [
    "le = LabelEncoder()\n",
    "le.fit(train['label'])"
   ]
  },
  {
   "cell_type": "code",
   "execution_count": 16,
   "id": "4038cce0-cdbb-4f67-b7e5-0f8356485192",
   "metadata": {},
   "outputs": [],
   "source": [
    "y_train = le.transform(train['label'])\n",
    "y_test = le.transform(test['label'])"
   ]
  },
  {
   "cell_type": "code",
   "execution_count": 17,
   "id": "da87c516-bfa3-419a-9097-4f878a878667",
   "metadata": {},
   "outputs": [],
   "source": [
    "y_train = to_categorical(y_train,num_classes = 7)\n",
    "y_test = to_categorical(y_test,num_classes = 7)"
   ]
  },
  {
   "cell_type": "code",
   "execution_count": 18,
   "id": "9d073625-ef59-44db-986b-b7c70ad3ad08",
   "metadata": {},
   "outputs": [
    {
     "name": "stdout",
     "output_type": "stream",
     "text": [
      "WARNING:tensorflow:From C:\\Users\\acer\\AppData\\Local\\Programs\\Python\\Python311\\Lib\\site-packages\\keras\\src\\backend.py:873: The name tf.get_default_graph is deprecated. Please use tf.compat.v1.get_default_graph instead.\n",
      "\n",
      "WARNING:tensorflow:From C:\\Users\\acer\\AppData\\Local\\Programs\\Python\\Python311\\Lib\\site-packages\\keras\\src\\layers\\pooling\\max_pooling2d.py:161: The name tf.nn.max_pool is deprecated. Please use tf.nn.max_pool2d instead.\n",
      "\n"
     ]
    }
   ],
   "source": [
    "model = Sequential()\n",
    "# convolutional layers\n",
    "model.add(Conv2D(128, kernel_size=(3,3), activation='relu', input_shape=(48,48,1)))\n",
    "model.add(MaxPooling2D(pool_size=(2,2)))\n",
    "model.add(Dropout(0.4))\n",
    "\n",
    "model.add(Conv2D(256, kernel_size=(3,3), activation='relu'))\n",
    "model.add(MaxPooling2D(pool_size=(2,2)))\n",
    "model.add(Dropout(0.4))\n",
    "\n",
    "model.add(Conv2D(512, kernel_size=(3,3), activation='relu'))\n",
    "model.add(MaxPooling2D(pool_size=(2,2)))\n",
    "model.add(Dropout(0.4))\n",
    "\n",
    "model.add(Conv2D(512, kernel_size=(3,3), activation='relu'))\n",
    "model.add(MaxPooling2D(pool_size=(2,2)))\n",
    "model.add(Dropout(0.4))\n",
    "\n",
    "model.add(Flatten())\n",
    "# fully connected layers\n",
    "model.add(Dense(512, activation='relu'))\n",
    "model.add(Dropout(0.4))\n",
    "model.add(Dense(256, activation='relu'))\n",
    "model.add(Dropout(0.3))\n",
    "# output layer\n",
    "model.add(Dense(7, activation='softmax'))"
   ]
  },
  {
   "cell_type": "code",
   "execution_count": 19,
   "id": "b8b7ff1e-7208-464c-b6fd-724316be0eba",
   "metadata": {},
   "outputs": [
    {
     "name": "stdout",
     "output_type": "stream",
     "text": [
      "WARNING:tensorflow:From C:\\Users\\acer\\AppData\\Local\\Programs\\Python\\Python311\\Lib\\site-packages\\keras\\src\\optimizers\\__init__.py:309: The name tf.train.Optimizer is deprecated. Please use tf.compat.v1.train.Optimizer instead.\n",
      "\n"
     ]
    }
   ],
   "source": [
    "model.compile(optimizer = 'adam', loss = 'categorical_crossentropy', metrics = 'accuracy' )"
   ]
  },
  {
   "cell_type": "code",
   "execution_count": 20,
   "id": "3b9932b6-21db-4cf3-afa9-2a52f65f4dc1",
   "metadata": {},
   "outputs": [
    {
     "name": "stdout",
     "output_type": "stream",
     "text": [
      "0\n"
     ]
    }
   ],
   "source": [
    "print(len(tf.config.experimental.list_physical_devices('GPU')))\n"
   ]
  },
  {
   "cell_type": "code",
   "execution_count": 21,
   "id": "4e08b31d-d680-4487-a1ca-c86d9997c504",
   "metadata": {},
   "outputs": [
    {
     "name": "stdout",
     "output_type": "stream",
     "text": [
      "Epoch 1/100\n",
      "WARNING:tensorflow:From C:\\Users\\acer\\AppData\\Local\\Programs\\Python\\Python311\\Lib\\site-packages\\keras\\src\\utils\\tf_utils.py:492: The name tf.ragged.RaggedTensorValue is deprecated. Please use tf.compat.v1.ragged.RaggedTensorValue instead.\n",
      "\n",
      "WARNING:tensorflow:From C:\\Users\\acer\\AppData\\Local\\Programs\\Python\\Python311\\Lib\\site-packages\\keras\\src\\engine\\base_layer_utils.py:384: The name tf.executing_eagerly_outside_functions is deprecated. Please use tf.compat.v1.executing_eagerly_outside_functions instead.\n",
      "\n",
      "226/226 [==============================] - 197s 862ms/step - loss: 1.8244 - accuracy: 0.2438 - val_loss: 1.8102 - val_accuracy: 0.2583\n",
      "Epoch 2/100\n",
      "226/226 [==============================] - 189s 834ms/step - loss: 1.8045 - accuracy: 0.2496 - val_loss: 1.7738 - val_accuracy: 0.2580\n",
      "Epoch 3/100\n",
      "226/226 [==============================] - 217s 963ms/step - loss: 1.7336 - accuracy: 0.2856 - val_loss: 1.6350 - val_accuracy: 0.3344\n",
      "Epoch 4/100\n",
      "226/226 [==============================] - 220s 975ms/step - loss: 1.6180 - accuracy: 0.3608 - val_loss: 1.4489 - val_accuracy: 0.4377\n",
      "Epoch 5/100\n",
      "226/226 [==============================] - 213s 944ms/step - loss: 1.5110 - accuracy: 0.4121 - val_loss: 1.3810 - val_accuracy: 0.4738\n",
      "Epoch 6/100\n",
      "226/226 [==============================] - 213s 942ms/step - loss: 1.4524 - accuracy: 0.4393 - val_loss: 1.3442 - val_accuracy: 0.4884\n",
      "Epoch 7/100\n",
      "226/226 [==============================] - 212s 940ms/step - loss: 1.4084 - accuracy: 0.4583 - val_loss: 1.3053 - val_accuracy: 0.4949\n",
      "Epoch 8/100\n",
      "226/226 [==============================] - 213s 944ms/step - loss: 1.3689 - accuracy: 0.4761 - val_loss: 1.2670 - val_accuracy: 0.5139\n",
      "Epoch 9/100\n",
      "226/226 [==============================] - 211s 934ms/step - loss: 1.3426 - accuracy: 0.4831 - val_loss: 1.2388 - val_accuracy: 0.5290\n",
      "Epoch 10/100\n",
      "226/226 [==============================] - 211s 932ms/step - loss: 1.3165 - accuracy: 0.4967 - val_loss: 1.2108 - val_accuracy: 0.5447\n",
      "Epoch 11/100\n",
      "226/226 [==============================] - 211s 935ms/step - loss: 1.2974 - accuracy: 0.5045 - val_loss: 1.2071 - val_accuracy: 0.5409\n",
      "Epoch 12/100\n",
      "226/226 [==============================] - 213s 943ms/step - loss: 1.2790 - accuracy: 0.5134 - val_loss: 1.1860 - val_accuracy: 0.5569\n",
      "Epoch 13/100\n",
      "226/226 [==============================] - 211s 934ms/step - loss: 1.2598 - accuracy: 0.5222 - val_loss: 1.1797 - val_accuracy: 0.5552\n",
      "Epoch 14/100\n",
      "226/226 [==============================] - 211s 932ms/step - loss: 1.2400 - accuracy: 0.5269 - val_loss: 1.1476 - val_accuracy: 0.5626\n",
      "Epoch 15/100\n",
      "226/226 [==============================] - 211s 934ms/step - loss: 1.2270 - accuracy: 0.5334 - val_loss: 1.1505 - val_accuracy: 0.5616\n",
      "Epoch 16/100\n",
      "226/226 [==============================] - 211s 935ms/step - loss: 1.2178 - accuracy: 0.5352 - val_loss: 1.1498 - val_accuracy: 0.5702\n",
      "Epoch 17/100\n",
      "226/226 [==============================] - 211s 933ms/step - loss: 1.2023 - accuracy: 0.5449 - val_loss: 1.1433 - val_accuracy: 0.5672\n",
      "Epoch 18/100\n",
      "226/226 [==============================] - 211s 935ms/step - loss: 1.1961 - accuracy: 0.5454 - val_loss: 1.1229 - val_accuracy: 0.5774\n",
      "Epoch 19/100\n",
      "226/226 [==============================] - 212s 937ms/step - loss: 1.1791 - accuracy: 0.5527 - val_loss: 1.1145 - val_accuracy: 0.5848\n",
      "Epoch 20/100\n",
      "226/226 [==============================] - 211s 934ms/step - loss: 1.1638 - accuracy: 0.5600 - val_loss: 1.1351 - val_accuracy: 0.5804\n",
      "Epoch 21/100\n",
      "226/226 [==============================] - 211s 935ms/step - loss: 1.1566 - accuracy: 0.5586 - val_loss: 1.1052 - val_accuracy: 0.5897\n",
      "Epoch 22/100\n",
      "226/226 [==============================] - 212s 938ms/step - loss: 1.1433 - accuracy: 0.5672 - val_loss: 1.1021 - val_accuracy: 0.5862\n",
      "Epoch 23/100\n",
      "226/226 [==============================] - 211s 932ms/step - loss: 1.1375 - accuracy: 0.5708 - val_loss: 1.0975 - val_accuracy: 0.5924\n",
      "Epoch 24/100\n",
      "226/226 [==============================] - 212s 939ms/step - loss: 1.1296 - accuracy: 0.5730 - val_loss: 1.0956 - val_accuracy: 0.5839\n",
      "Epoch 25/100\n",
      "226/226 [==============================] - 212s 937ms/step - loss: 1.1192 - accuracy: 0.5747 - val_loss: 1.0792 - val_accuracy: 0.5975\n",
      "Epoch 26/100\n",
      "226/226 [==============================] - 211s 933ms/step - loss: 1.1101 - accuracy: 0.5780 - val_loss: 1.0754 - val_accuracy: 0.6018\n",
      "Epoch 27/100\n",
      "226/226 [==============================] - 210s 930ms/step - loss: 1.1036 - accuracy: 0.5838 - val_loss: 1.0672 - val_accuracy: 0.6037\n",
      "Epoch 28/100\n",
      "226/226 [==============================] - 211s 935ms/step - loss: 1.0954 - accuracy: 0.5841 - val_loss: 1.0729 - val_accuracy: 0.5981\n",
      "Epoch 29/100\n",
      "226/226 [==============================] - 211s 933ms/step - loss: 1.0885 - accuracy: 0.5873 - val_loss: 1.0778 - val_accuracy: 0.5981\n",
      "Epoch 30/100\n",
      "226/226 [==============================] - 211s 934ms/step - loss: 1.0889 - accuracy: 0.5885 - val_loss: 1.0712 - val_accuracy: 0.5977\n",
      "Epoch 31/100\n",
      "226/226 [==============================] - 211s 933ms/step - loss: 1.0752 - accuracy: 0.5912 - val_loss: 1.0626 - val_accuracy: 0.6030\n",
      "Epoch 32/100\n",
      "226/226 [==============================] - 212s 936ms/step - loss: 1.0643 - accuracy: 0.5994 - val_loss: 1.0671 - val_accuracy: 0.6012\n",
      "Epoch 33/100\n",
      "226/226 [==============================] - 211s 936ms/step - loss: 1.0566 - accuracy: 0.6018 - val_loss: 1.0674 - val_accuracy: 0.6022\n",
      "Epoch 34/100\n",
      "226/226 [==============================] - 211s 934ms/step - loss: 1.0551 - accuracy: 0.6010 - val_loss: 1.0588 - val_accuracy: 0.6047\n",
      "Epoch 35/100\n",
      "226/226 [==============================] - 211s 934ms/step - loss: 1.0415 - accuracy: 0.6054 - val_loss: 1.0614 - val_accuracy: 0.6098\n",
      "Epoch 36/100\n",
      "226/226 [==============================] - 211s 935ms/step - loss: 1.0376 - accuracy: 0.6092 - val_loss: 1.0556 - val_accuracy: 0.6125\n",
      "Epoch 37/100\n",
      "226/226 [==============================] - 211s 933ms/step - loss: 1.0315 - accuracy: 0.6120 - val_loss: 1.0694 - val_accuracy: 0.6043\n",
      "Epoch 38/100\n",
      "226/226 [==============================] - 211s 935ms/step - loss: 1.0363 - accuracy: 0.6088 - val_loss: 1.0562 - val_accuracy: 0.6037\n",
      "Epoch 39/100\n",
      "226/226 [==============================] - 211s 932ms/step - loss: 1.0240 - accuracy: 0.6155 - val_loss: 1.0446 - val_accuracy: 0.6124\n",
      "Epoch 40/100\n",
      "226/226 [==============================] - 210s 931ms/step - loss: 1.0166 - accuracy: 0.6133 - val_loss: 1.0418 - val_accuracy: 0.6139\n",
      "Epoch 41/100\n",
      "226/226 [==============================] - 211s 933ms/step - loss: 1.0136 - accuracy: 0.6198 - val_loss: 1.0430 - val_accuracy: 0.6132\n",
      "Epoch 42/100\n",
      "226/226 [==============================] - 212s 938ms/step - loss: 0.9950 - accuracy: 0.6287 - val_loss: 1.0517 - val_accuracy: 0.6102\n",
      "Epoch 43/100\n",
      "226/226 [==============================] - 211s 932ms/step - loss: 1.0019 - accuracy: 0.6270 - val_loss: 1.0532 - val_accuracy: 0.6093\n",
      "Epoch 44/100\n",
      "226/226 [==============================] - 211s 936ms/step - loss: 0.9940 - accuracy: 0.6258 - val_loss: 1.0373 - val_accuracy: 0.6156\n",
      "Epoch 45/100\n",
      "226/226 [==============================] - 213s 944ms/step - loss: 0.9808 - accuracy: 0.6346 - val_loss: 1.0463 - val_accuracy: 0.6132\n",
      "Epoch 46/100\n",
      "226/226 [==============================] - 219s 968ms/step - loss: 0.9698 - accuracy: 0.6369 - val_loss: 1.0488 - val_accuracy: 0.6121\n",
      "Epoch 47/100\n",
      "226/226 [==============================] - 217s 962ms/step - loss: 0.9710 - accuracy: 0.6385 - val_loss: 1.0470 - val_accuracy: 0.6110\n",
      "Epoch 48/100\n",
      "226/226 [==============================] - 218s 966ms/step - loss: 0.9606 - accuracy: 0.6440 - val_loss: 1.0367 - val_accuracy: 0.6172\n",
      "Epoch 49/100\n",
      "226/226 [==============================] - 217s 961ms/step - loss: 0.9605 - accuracy: 0.6410 - val_loss: 1.0473 - val_accuracy: 0.6186\n",
      "Epoch 50/100\n",
      "226/226 [==============================] - 218s 965ms/step - loss: 0.9556 - accuracy: 0.6417 - val_loss: 1.0447 - val_accuracy: 0.6165\n",
      "Epoch 51/100\n",
      "226/226 [==============================] - 218s 967ms/step - loss: 0.9497 - accuracy: 0.6449 - val_loss: 1.0366 - val_accuracy: 0.6160\n",
      "Epoch 52/100\n",
      "226/226 [==============================] - 219s 967ms/step - loss: 0.9406 - accuracy: 0.6475 - val_loss: 1.0392 - val_accuracy: 0.6159\n",
      "Epoch 53/100\n",
      "226/226 [==============================] - 219s 967ms/step - loss: 0.9383 - accuracy: 0.6499 - val_loss: 1.0349 - val_accuracy: 0.6193\n",
      "Epoch 54/100\n",
      "226/226 [==============================] - 219s 969ms/step - loss: 0.9362 - accuracy: 0.6538 - val_loss: 1.0319 - val_accuracy: 0.6206\n",
      "Epoch 55/100\n",
      "226/226 [==============================] - 218s 966ms/step - loss: 0.9302 - accuracy: 0.6558 - val_loss: 1.0373 - val_accuracy: 0.6168\n",
      "Epoch 56/100\n",
      "226/226 [==============================] - 219s 967ms/step - loss: 0.9221 - accuracy: 0.6557 - val_loss: 1.0360 - val_accuracy: 0.6221\n",
      "Epoch 57/100\n",
      "226/226 [==============================] - 219s 968ms/step - loss: 0.9200 - accuracy: 0.6573 - val_loss: 1.0240 - val_accuracy: 0.6165\n",
      "Epoch 58/100\n",
      "226/226 [==============================] - 219s 968ms/step - loss: 0.9096 - accuracy: 0.6634 - val_loss: 1.0331 - val_accuracy: 0.6210\n",
      "Epoch 59/100\n",
      "226/226 [==============================] - 220s 972ms/step - loss: 0.9090 - accuracy: 0.6617 - val_loss: 1.0321 - val_accuracy: 0.6185\n",
      "Epoch 60/100\n",
      "226/226 [==============================] - 223s 988ms/step - loss: 0.9024 - accuracy: 0.6636 - val_loss: 1.0252 - val_accuracy: 0.6168\n",
      "Epoch 61/100\n",
      "226/226 [==============================] - 224s 990ms/step - loss: 0.8932 - accuracy: 0.6681 - val_loss: 1.0352 - val_accuracy: 0.6219\n",
      "Epoch 62/100\n",
      "226/226 [==============================] - 222s 982ms/step - loss: 0.8989 - accuracy: 0.6682 - val_loss: 1.0292 - val_accuracy: 0.6240\n",
      "Epoch 63/100\n",
      "226/226 [==============================] - 218s 964ms/step - loss: 0.8828 - accuracy: 0.6702 - val_loss: 1.0188 - val_accuracy: 0.6247\n",
      "Epoch 64/100\n",
      "226/226 [==============================] - 218s 965ms/step - loss: 0.8805 - accuracy: 0.6739 - val_loss: 1.0309 - val_accuracy: 0.6255\n",
      "Epoch 65/100\n",
      "226/226 [==============================] - 218s 964ms/step - loss: 0.8776 - accuracy: 0.6749 - val_loss: 1.0269 - val_accuracy: 0.6231\n",
      "Epoch 66/100\n",
      "226/226 [==============================] - 218s 966ms/step - loss: 0.8684 - accuracy: 0.6771 - val_loss: 1.0279 - val_accuracy: 0.6219\n",
      "Epoch 67/100\n",
      "226/226 [==============================] - 218s 963ms/step - loss: 0.8686 - accuracy: 0.6778 - val_loss: 1.0262 - val_accuracy: 0.6275\n",
      "Epoch 68/100\n",
      "226/226 [==============================] - 218s 965ms/step - loss: 0.8626 - accuracy: 0.6782 - val_loss: 1.0449 - val_accuracy: 0.6213\n",
      "Epoch 69/100\n",
      "226/226 [==============================] - 218s 963ms/step - loss: 0.8525 - accuracy: 0.6834 - val_loss: 1.0349 - val_accuracy: 0.6238\n",
      "Epoch 70/100\n",
      "226/226 [==============================] - 218s 964ms/step - loss: 0.8586 - accuracy: 0.6800 - val_loss: 1.0400 - val_accuracy: 0.6192\n",
      "Epoch 71/100\n",
      "226/226 [==============================] - 218s 964ms/step - loss: 0.8532 - accuracy: 0.6826 - val_loss: 1.0304 - val_accuracy: 0.6261\n",
      "Epoch 72/100\n",
      "226/226 [==============================] - 218s 965ms/step - loss: 0.8450 - accuracy: 0.6880 - val_loss: 1.0364 - val_accuracy: 0.6258\n",
      "Epoch 73/100\n",
      "226/226 [==============================] - 218s 963ms/step - loss: 0.8450 - accuracy: 0.6870 - val_loss: 1.0287 - val_accuracy: 0.6267\n",
      "Epoch 74/100\n",
      "226/226 [==============================] - 219s 971ms/step - loss: 0.8390 - accuracy: 0.6893 - val_loss: 1.0205 - val_accuracy: 0.6265\n",
      "Epoch 75/100\n",
      "226/226 [==============================] - 219s 970ms/step - loss: 0.8302 - accuracy: 0.6944 - val_loss: 1.0343 - val_accuracy: 0.6279\n",
      "Epoch 76/100\n",
      "226/226 [==============================] - 219s 969ms/step - loss: 0.8320 - accuracy: 0.6923 - val_loss: 1.0422 - val_accuracy: 0.6200\n",
      "Epoch 77/100\n",
      "226/226 [==============================] - 219s 968ms/step - loss: 0.8243 - accuracy: 0.6971 - val_loss: 1.0260 - val_accuracy: 0.6277\n",
      "Epoch 78/100\n",
      "226/226 [==============================] - 218s 965ms/step - loss: 0.8231 - accuracy: 0.6961 - val_loss: 1.0328 - val_accuracy: 0.6278\n",
      "Epoch 79/100\n",
      "226/226 [==============================] - 219s 967ms/step - loss: 0.8213 - accuracy: 0.6986 - val_loss: 1.0377 - val_accuracy: 0.6243\n",
      "Epoch 80/100\n",
      "226/226 [==============================] - 218s 966ms/step - loss: 0.8142 - accuracy: 0.6984 - val_loss: 1.0296 - val_accuracy: 0.6272\n",
      "Epoch 81/100\n",
      "226/226 [==============================] - 218s 967ms/step - loss: 0.8053 - accuracy: 0.7053 - val_loss: 1.0193 - val_accuracy: 0.6302\n",
      "Epoch 82/100\n",
      "226/226 [==============================] - 219s 967ms/step - loss: 0.8082 - accuracy: 0.7040 - val_loss: 1.0217 - val_accuracy: 0.6294\n",
      "Epoch 83/100\n",
      "226/226 [==============================] - 219s 967ms/step - loss: 0.7990 - accuracy: 0.7058 - val_loss: 1.0427 - val_accuracy: 0.6278\n",
      "Epoch 84/100\n",
      "226/226 [==============================] - 218s 963ms/step - loss: 0.7936 - accuracy: 0.7068 - val_loss: 1.0304 - val_accuracy: 0.6298\n",
      "Epoch 85/100\n",
      "226/226 [==============================] - 218s 965ms/step - loss: 0.7955 - accuracy: 0.7115 - val_loss: 1.0314 - val_accuracy: 0.6305\n",
      "Epoch 86/100\n",
      "226/226 [==============================] - 218s 965ms/step - loss: 0.7970 - accuracy: 0.7055 - val_loss: 1.0310 - val_accuracy: 0.6248\n",
      "Epoch 87/100\n",
      "226/226 [==============================] - 218s 967ms/step - loss: 0.7768 - accuracy: 0.7150 - val_loss: 1.0298 - val_accuracy: 0.6281\n",
      "Epoch 88/100\n",
      "226/226 [==============================] - 218s 965ms/step - loss: 0.7949 - accuracy: 0.7138 - val_loss: 1.0330 - val_accuracy: 0.6309\n",
      "Epoch 89/100\n",
      "226/226 [==============================] - 219s 967ms/step - loss: 0.7812 - accuracy: 0.7127 - val_loss: 1.0344 - val_accuracy: 0.6313\n",
      "Epoch 90/100\n",
      "226/226 [==============================] - 219s 970ms/step - loss: 0.7791 - accuracy: 0.7163 - val_loss: 1.0285 - val_accuracy: 0.6343\n",
      "Epoch 91/100\n",
      "226/226 [==============================] - 219s 967ms/step - loss: 0.7665 - accuracy: 0.7195 - val_loss: 1.0272 - val_accuracy: 0.6384\n",
      "Epoch 92/100\n",
      "226/226 [==============================] - 218s 966ms/step - loss: 0.7680 - accuracy: 0.7193 - val_loss: 1.0440 - val_accuracy: 0.6361\n",
      "Epoch 93/100\n",
      "226/226 [==============================] - 218s 966ms/step - loss: 0.7524 - accuracy: 0.7250 - val_loss: 1.0304 - val_accuracy: 0.6325\n",
      "Epoch 94/100\n",
      "226/226 [==============================] - 218s 966ms/step - loss: 0.7590 - accuracy: 0.7260 - val_loss: 1.0343 - val_accuracy: 0.6289\n",
      "Epoch 95/100\n",
      "226/226 [==============================] - 218s 965ms/step - loss: 0.7581 - accuracy: 0.7236 - val_loss: 1.0344 - val_accuracy: 0.6344\n",
      "Epoch 96/100\n",
      "226/226 [==============================] - 218s 964ms/step - loss: 0.7493 - accuracy: 0.7271 - val_loss: 1.0356 - val_accuracy: 0.6271\n",
      "Epoch 97/100\n",
      "226/226 [==============================] - 218s 964ms/step - loss: 0.7428 - accuracy: 0.7297 - val_loss: 1.0209 - val_accuracy: 0.6295\n",
      "Epoch 98/100\n",
      "226/226 [==============================] - 218s 964ms/step - loss: 0.7413 - accuracy: 0.7301 - val_loss: 1.0389 - val_accuracy: 0.6281\n",
      "Epoch 99/100\n",
      "226/226 [==============================] - 218s 966ms/step - loss: 0.7361 - accuracy: 0.7321 - val_loss: 1.0338 - val_accuracy: 0.6275\n",
      "Epoch 100/100\n",
      "226/226 [==============================] - 218s 965ms/step - loss: 0.7393 - accuracy: 0.7315 - val_loss: 1.0250 - val_accuracy: 0.6261\n"
     ]
    },
    {
     "data": {
      "text/plain": [
       "<keras.src.callbacks.History at 0x209737c0790>"
      ]
     },
     "execution_count": 21,
     "metadata": {},
     "output_type": "execute_result"
    }
   ],
   "source": [
    "model.fit(x= x_train,y = y_train, batch_size = 128, epochs = 100, validation_data = (x_test,y_test))"
   ]
  },
  {
   "cell_type": "code",
   "execution_count": 3,
   "id": "79198b1f-4c62-4919-adda-b7f8c3cc0b5b",
   "metadata": {},
   "outputs": [],
   "source": [
    "# model_json = model.to_json()\n",
    "# with open(\"emotiondetector.json\",'w') as json_file:\n",
    "#     json_file.write(model_json)\n",
    "# model.save(\"emotiondetector.h5\")"
   ]
  },
  {
   "cell_type": "code",
   "execution_count": 11,
   "id": "90bfc5d6-b736-4469-90a0-125b6c25b248",
   "metadata": {},
   "outputs": [],
   "source": [
    "from keras.models import model_from_json"
   ]
  },
  {
   "cell_type": "code",
   "execution_count": 14,
   "id": "afc931a2-51a4-4066-97fd-b83414f8dc94",
   "metadata": {},
   "outputs": [
    {
     "name": "stdout",
     "output_type": "stream",
     "text": [
      "WARNING:tensorflow:From C:\\Users\\acer\\AppData\\Local\\Programs\\Python\\Python311\\Lib\\site-packages\\keras\\src\\backend.py:1398: The name tf.executing_eagerly_outside_functions is deprecated. Please use tf.compat.v1.executing_eagerly_outside_functions instead.\n",
      "\n",
      "WARNING:tensorflow:From C:\\Users\\acer\\AppData\\Local\\Programs\\Python\\Python311\\Lib\\site-packages\\keras\\src\\layers\\pooling\\max_pooling2d.py:161: The name tf.nn.max_pool is deprecated. Please use tf.nn.max_pool2d instead.\n",
      "\n"
     ]
    }
   ],
   "source": [
    "json_file = open(\"facialemotionmodel.json\", \"r\")\n",
    "model_json = json_file.read()\n",
    "json_file.close()\n",
    "model = model_from_json(model_json)\n",
    "model.load_weights(\"facialemotionmodel.h5\")"
   ]
  },
  {
   "cell_type": "code",
   "execution_count": 15,
   "id": "9d8b2155-fba7-44fb-b326-ed16029ba4d3",
   "metadata": {},
   "outputs": [],
   "source": [
    "label = ['angry','disgust','fear','happy','neutral','sad','surprise']"
   ]
  },
  {
   "cell_type": "code",
   "execution_count": 21,
   "id": "a039f73d-1e28-4b90-b843-c08d890f5179",
   "metadata": {},
   "outputs": [],
   "source": [
    "def ef(image):\n",
    "    img = load_img(image, color_mode = \"grayscale\" )\n",
    "    feature = np.array(img)\n",
    "    feature = feature.reshape(1,48,48,1)\n",
    "    return feature/255.0"
   ]
  },
  {
   "cell_type": "code",
   "execution_count": 22,
   "id": "3761fe31-0ca1-4114-b528-65fdc95030c2",
   "metadata": {},
   "outputs": [
    {
     "name": "stdout",
     "output_type": "stream",
     "text": [
      "original image is of sad\n",
      "1/1 [==============================] - 0s 49ms/step\n",
      "model prediction is  sad\n"
     ]
    }
   ],
   "source": [
    "image = 'images/train/sad/42.jpg'\n",
    "print(\"original image is of sad\")\n",
    "img = ef(image)\n",
    "pred = model.predict(img)\n",
    "pred_label = label[pred.argmax()]\n",
    "print(\"model prediction is \",pred_label)"
   ]
  },
  {
   "cell_type": "code",
   "execution_count": 27,
   "id": "3cea6d8d-33b1-45fd-9623-18f6b3f9d4cf",
   "metadata": {},
   "outputs": [
    {
     "name": "stdout",
     "output_type": "stream",
     "text": [
      "Collecting matplotlib\n",
      "  Downloading matplotlib-3.8.2-cp311-cp311-win_amd64.whl.metadata (5.9 kB)\n",
      "Collecting contourpy>=1.0.1 (from matplotlib)\n",
      "  Downloading contourpy-1.2.0-cp311-cp311-win_amd64.whl.metadata (5.8 kB)\n",
      "Collecting cycler>=0.10 (from matplotlib)\n",
      "  Downloading cycler-0.12.1-py3-none-any.whl.metadata (3.8 kB)\n",
      "Collecting fonttools>=4.22.0 (from matplotlib)\n",
      "  Downloading fonttools-4.46.0-cp311-cp311-win_amd64.whl.metadata (159 kB)\n",
      "     ---------------------------------------- 0.0/159.4 kB ? eta -:--:--\n",
      "     -- ------------------------------------- 10.2/159.4 kB ? eta -:--:--\n",
      "     --------- --------------------------- 41.0/159.4 kB 393.8 kB/s eta 0:00:01\n",
      "     ------------------- ----------------- 81.9/159.4 kB 657.6 kB/s eta 0:00:01\n",
      "     -------------------------------- --- 143.4/159.4 kB 774.0 kB/s eta 0:00:01\n",
      "     ------------------------------------ 159.4/159.4 kB 797.6 kB/s eta 0:00:00\n",
      "Collecting kiwisolver>=1.3.1 (from matplotlib)\n",
      "  Downloading kiwisolver-1.4.5-cp311-cp311-win_amd64.whl.metadata (6.5 kB)\n",
      "Requirement already satisfied: numpy<2,>=1.21 in c:\\users\\acer\\appdata\\local\\programs\\python\\python311\\lib\\site-packages (from matplotlib) (1.23.5)\n",
      "Requirement already satisfied: packaging>=20.0 in c:\\users\\acer\\appdata\\local\\programs\\python\\python311\\lib\\site-packages (from matplotlib) (23.2)\n",
      "Requirement already satisfied: pillow>=8 in c:\\users\\acer\\appdata\\local\\programs\\python\\python311\\lib\\site-packages (from matplotlib) (10.1.0)\n",
      "Collecting pyparsing>=2.3.1 (from matplotlib)\n",
      "  Downloading pyparsing-3.1.1-py3-none-any.whl.metadata (5.1 kB)\n",
      "Requirement already satisfied: python-dateutil>=2.7 in c:\\users\\acer\\appdata\\local\\programs\\python\\python311\\lib\\site-packages (from matplotlib) (2.8.2)\n",
      "Requirement already satisfied: six>=1.5 in c:\\users\\acer\\appdata\\local\\programs\\python\\python311\\lib\\site-packages (from python-dateutil>=2.7->matplotlib) (1.16.0)\n",
      "Downloading matplotlib-3.8.2-cp311-cp311-win_amd64.whl (7.6 MB)\n",
      "   ---------------------------------------- 0.0/7.6 MB ? eta -:--:--\n",
      "   - -------------------------------------- 0.2/7.6 MB 5.9 MB/s eta 0:00:02\n",
      "   - -------------------------------------- 0.2/7.6 MB 2.3 MB/s eta 0:00:04\n",
      "   -- ------------------------------------- 0.4/7.6 MB 3.4 MB/s eta 0:00:03\n",
      "   --- ------------------------------------ 0.6/7.6 MB 3.4 MB/s eta 0:00:03\n",
      "   ----- ---------------------------------- 1.0/7.6 MB 4.7 MB/s eta 0:00:02\n",
      "   ------ --------------------------------- 1.3/7.6 MB 4.7 MB/s eta 0:00:02\n",
      "   ---------- ----------------------------- 2.0/7.6 MB 6.4 MB/s eta 0:00:01\n",
      "   ------------ --------------------------- 2.5/7.6 MB 6.5 MB/s eta 0:00:01\n",
      "   ----------------- ---------------------- 3.4/7.6 MB 8.0 MB/s eta 0:00:01\n",
      "   ----------------------- ---------------- 4.5/7.6 MB 9.7 MB/s eta 0:00:01\n",
      "   -------------------------- ------------- 5.2/7.6 MB 10.3 MB/s eta 0:00:01\n",
      "   -------------------------------- ------- 6.2/7.6 MB 11.0 MB/s eta 0:00:01\n",
      "   ------------------------------------ --- 6.9/7.6 MB 11.6 MB/s eta 0:00:01\n",
      "   ------------------------------------- -- 7.2/7.6 MB 11.5 MB/s eta 0:00:01\n",
      "   ------------------------------------- -- 7.2/7.6 MB 11.5 MB/s eta 0:00:01\n",
      "   -------------------------------------- - 7.4/7.6 MB 10.1 MB/s eta 0:00:01\n",
      "   ---------------------------------------  7.5/7.6 MB 10.0 MB/s eta 0:00:01\n",
      "   ---------------------------------------- 7.6/7.6 MB 9.2 MB/s eta 0:00:00\n",
      "Downloading contourpy-1.2.0-cp311-cp311-win_amd64.whl (187 kB)\n",
      "   ---------------------------------------- 0.0/187.6 kB ? eta -:--:--\n",
      "   ---------------------------------------- 187.6/187.6 kB ? eta 0:00:00\n",
      "Downloading cycler-0.12.1-py3-none-any.whl (8.3 kB)\n",
      "Downloading fonttools-4.46.0-cp311-cp311-win_amd64.whl (2.2 MB)\n",
      "   ---------------------------------------- 0.0/2.2 MB ? eta -:--:--\n",
      "   ---------------- ----------------------- 0.9/2.2 MB 28.7 MB/s eta 0:00:01\n",
      "   ------------------------------------ --- 2.0/2.2 MB 25.6 MB/s eta 0:00:01\n",
      "   ---------------------------------------- 2.2/2.2 MB 23.1 MB/s eta 0:00:00\n",
      "Downloading kiwisolver-1.4.5-cp311-cp311-win_amd64.whl (56 kB)\n",
      "   ---------------------------------------- 0.0/56.1 kB ? eta -:--:--\n",
      "   ---------------------------------------- 56.1/56.1 kB 2.9 MB/s eta 0:00:00\n",
      "Downloading pyparsing-3.1.1-py3-none-any.whl (103 kB)\n",
      "   ---------------------------------------- 0.0/103.1 kB ? eta -:--:--\n",
      "   ---------------------------------------- 103.1/103.1 kB ? eta 0:00:00\n",
      "Installing collected packages: pyparsing, kiwisolver, fonttools, cycler, contourpy, matplotlib\n",
      "Successfully installed contourpy-1.2.0 cycler-0.12.1 fonttools-4.46.0 kiwisolver-1.4.5 matplotlib-3.8.2 pyparsing-3.1.1\n"
     ]
    }
   ],
   "source": [
    "!pip install matplotlib"
   ]
  },
  {
   "cell_type": "code",
   "execution_count": 28,
   "id": "5d7cd728-ef63-4339-aaef-84ba9dfe46f7",
   "metadata": {},
   "outputs": [],
   "source": [
    "import matplotlib.pyplot as plt\n",
    "%matplotlib inline"
   ]
  },
  {
   "cell_type": "code",
   "execution_count": 29,
   "id": "12798f41-d8e9-41b1-8ef4-d790eb69f188",
   "metadata": {},
   "outputs": [
    {
     "name": "stdout",
     "output_type": "stream",
     "text": [
      "original image is of sad\n",
      "1/1 [==============================] - 0s 42ms/step\n",
      "model prediction is  sad\n"
     ]
    },
    {
     "data": {
      "text/plain": [
       "<matplotlib.image.AxesImage at 0x15e9da633d0>"
      ]
     },
     "execution_count": 29,
     "metadata": {},
     "output_type": "execute_result"
    },
    {
     "data": {
      "image/png": "[encoded data removed]",
      "text/plain": [
       "<Figure size 640x480 with 1 Axes>"
      ]
     },
     "metadata": {},
     "output_type": "display_data"
    }
   ],
   "source": [
    "image = 'images/train/sad/42.jpg'\n",
    "print(\"original image is of sad\")\n",
    "img = ef(image)\n",
    "pred = model.predict(img)\n",
    "pred_label = label[pred.argmax()]\n",
    "print(\"model prediction is \",pred_label)\n",
    "plt.imshow(img.reshape(48,48),cmap='gray')\n"
   ]
  },
  {
   "cell_type": "code",
   "execution_count": null,
   "id": "574a01a9-5016-4708-9dfb-0a7371ccbdad",
   "metadata": {},
   "outputs": [],
   "source": []
  }
 ],
 "metadata": {
  "kernelspec": {
   "display_name": "Python 3 (ipykernel)",
   "language": "python",
   "name": "python3"
  },
  "language_info": {
   "codemirror_mode": {
    "name": "ipython",
    "version": 3
   },
   "file_extension": ".py",
   "mimetype": "text/x-python",
   "name": "python",
   "nbconvert_exporter": "python",
   "pygments_lexer": "ipython3",
   "version": "3.11.7"
  }
 },
 "nbformat": 4,
 "nbformat_minor": 5
}
